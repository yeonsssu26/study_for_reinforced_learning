{
  "nbformat": 4,
  "nbformat_minor": 0,
  "metadata": {
    "colab": {
      "name": "DQN.ipynb",
      "provenance": [],
      "collapsed_sections": []
    },
    "kernelspec": {
      "name": "python3",
      "display_name": "Python 3"
    },
    "language_info": {
      "name": "python"
    },
    "accelerator": "GPU"
  },
  "cells": [
    {
      "cell_type": "code",
      "source": [
        "from google.colab import drive\n",
        "drive.mount('/content/drive')"
      ],
      "metadata": {
        "colab": {
          "base_uri": "https://localhost:8080/"
        },
        "id": "rRBhyiaQzvlT",
        "outputId": "0f5fdc9e-d5a8-44cd-cbd9-321f331cf169"
      },
      "execution_count": 2,
      "outputs": [
        {
          "output_type": "stream",
          "name": "stdout",
          "text": [
            "Mounted at /content/drive\n"
          ]
        }
      ]
    },
    {
      "cell_type": "code",
      "source": [
        "!apt-get install python-opengl -y\n",
        "!apt install xvfb -y\n",
        "!pip install pyvirtualdisplay\n",
        "!pip install piglet\n",
        "!pip install gym[box2d]"
      ],
      "metadata": {
        "colab": {
          "base_uri": "https://localhost:8080/"
        },
        "id": "QNh2RrtVCMkx",
        "outputId": "0f5ef1c0-148d-41b7-daa2-1520738c3a4b"
      },
      "execution_count": 3,
      "outputs": [
        {
          "output_type": "stream",
          "name": "stdout",
          "text": [
            "Reading package lists... Done\n",
            "Building dependency tree       \n",
            "Reading state information... Done\n",
            "Suggested packages:\n",
            "  libgle3\n",
            "The following NEW packages will be installed:\n",
            "  python-opengl\n",
            "0 upgraded, 1 newly installed, 0 to remove and 39 not upgraded.\n",
            "Need to get 496 kB of archives.\n",
            "After this operation, 5,416 kB of additional disk space will be used.\n",
            "Get:1 http://archive.ubuntu.com/ubuntu bionic/universe amd64 python-opengl all 3.1.0+dfsg-1 [496 kB]\n",
            "Fetched 496 kB in 1s (857 kB/s)\n",
            "Selecting previously unselected package python-opengl.\n",
            "(Reading database ... 155335 files and directories currently installed.)\n",
            "Preparing to unpack .../python-opengl_3.1.0+dfsg-1_all.deb ...\n",
            "Unpacking python-opengl (3.1.0+dfsg-1) ...\n",
            "Setting up python-opengl (3.1.0+dfsg-1) ...\n",
            "Reading package lists... Done\n",
            "Building dependency tree       \n",
            "Reading state information... Done\n",
            "The following NEW packages will be installed:\n",
            "  xvfb\n",
            "0 upgraded, 1 newly installed, 0 to remove and 39 not upgraded.\n",
            "Need to get 784 kB of archives.\n",
            "After this operation, 2,271 kB of additional disk space will be used.\n",
            "Get:1 http://archive.ubuntu.com/ubuntu bionic-updates/universe amd64 xvfb amd64 2:1.19.6-1ubuntu4.10 [784 kB]\n",
            "Fetched 784 kB in 1s (1,257 kB/s)\n",
            "Selecting previously unselected package xvfb.\n",
            "(Reading database ... 157690 files and directories currently installed.)\n",
            "Preparing to unpack .../xvfb_2%3a1.19.6-1ubuntu4.10_amd64.deb ...\n",
            "Unpacking xvfb (2:1.19.6-1ubuntu4.10) ...\n",
            "Setting up xvfb (2:1.19.6-1ubuntu4.10) ...\n",
            "Processing triggers for man-db (2.8.3-2ubuntu0.1) ...\n",
            "Collecting pyvirtualdisplay\n",
            "  Downloading PyVirtualDisplay-3.0-py3-none-any.whl (15 kB)\n",
            "Installing collected packages: pyvirtualdisplay\n",
            "Successfully installed pyvirtualdisplay-3.0\n",
            "Collecting piglet\n",
            "  Downloading piglet-1.0.0-py2.py3-none-any.whl (2.2 kB)\n",
            "Collecting piglet-templates\n",
            "  Downloading piglet_templates-1.2.0-py3-none-any.whl (67 kB)\n",
            "\u001b[K     |████████████████████████████████| 67 kB 5.0 MB/s \n",
            "\u001b[?25hRequirement already satisfied: markupsafe in /usr/local/lib/python3.7/dist-packages (from piglet-templates->piglet) (2.0.1)\n",
            "Requirement already satisfied: pyparsing in /usr/local/lib/python3.7/dist-packages (from piglet-templates->piglet) (3.0.7)\n",
            "Requirement already satisfied: attrs in /usr/local/lib/python3.7/dist-packages (from piglet-templates->piglet) (21.4.0)\n",
            "Requirement already satisfied: astunparse in /usr/local/lib/python3.7/dist-packages (from piglet-templates->piglet) (1.6.3)\n",
            "Requirement already satisfied: six<2.0,>=1.6.1 in /usr/local/lib/python3.7/dist-packages (from astunparse->piglet-templates->piglet) (1.15.0)\n",
            "Requirement already satisfied: wheel<1.0,>=0.23.0 in /usr/local/lib/python3.7/dist-packages (from astunparse->piglet-templates->piglet) (0.37.1)\n",
            "Installing collected packages: piglet-templates, piglet\n",
            "Successfully installed piglet-1.0.0 piglet-templates-1.2.0\n",
            "Requirement already satisfied: gym[box2d] in /usr/local/lib/python3.7/dist-packages (0.17.3)\n",
            "Requirement already satisfied: cloudpickle<1.7.0,>=1.2.0 in /usr/local/lib/python3.7/dist-packages (from gym[box2d]) (1.3.0)\n",
            "Requirement already satisfied: pyglet<=1.5.0,>=1.4.0 in /usr/local/lib/python3.7/dist-packages (from gym[box2d]) (1.5.0)\n",
            "Requirement already satisfied: scipy in /usr/local/lib/python3.7/dist-packages (from gym[box2d]) (1.4.1)\n",
            "Requirement already satisfied: numpy>=1.10.4 in /usr/local/lib/python3.7/dist-packages (from gym[box2d]) (1.21.5)\n",
            "Collecting box2d-py~=2.3.5\n",
            "  Downloading box2d_py-2.3.8-cp37-cp37m-manylinux1_x86_64.whl (448 kB)\n",
            "\u001b[K     |████████████████████████████████| 448 kB 17.2 MB/s \n",
            "\u001b[?25hRequirement already satisfied: future in /usr/local/lib/python3.7/dist-packages (from pyglet<=1.5.0,>=1.4.0->gym[box2d]) (0.16.0)\n",
            "Installing collected packages: box2d-py\n",
            "Successfully installed box2d-py-2.3.8\n"
          ]
        }
      ]
    },
    {
      "cell_type": "code",
      "source": [
        "# !python cartpole_dqn.py"
      ],
      "metadata": {
        "id": "EOAHW6YTCCrc"
      },
      "execution_count": 4,
      "outputs": []
    },
    {
      "cell_type": "code",
      "source": [
        "import gym\n",
        "import random\n",
        "import math\n",
        "import torch\n",
        "import torch.nn as nn\n",
        "import torch.optim as optim\n",
        "import torch.nn.functional as F\n",
        "from collections import deque\n",
        "import matplotlib.pyplot as plt\n",
        "from pyvirtualdisplay import Display\n",
        "Display().start()"
      ],
      "metadata": {
        "colab": {
          "base_uri": "https://localhost:8080/"
        },
        "id": "N-CC-Vpncovv",
        "outputId": "37477477-907e-433d-b196-02f10a86a3e3"
      },
      "execution_count": 5,
      "outputs": [
        {
          "output_type": "execute_result",
          "data": {
            "text/plain": [
              "<pyvirtualdisplay.display.Display at 0x7f6d7114ca10>"
            ]
          },
          "metadata": {},
          "execution_count": 5
        }
      ]
    },
    {
      "cell_type": "code",
      "source": [
        "# 하이퍼 파라미터\n",
        "EPISODES = 50    # 애피소드 반복횟수 (=총 플레이할 게임 수)\n",
        "EPS_START = 0.9  # 학습 시작시 에이전트가 무작위로 행동할 확률 (나머지는 학습된 방향으로 행동)\n",
        "EPS_END = 0.05   # 학습 막바지에 에이전트가 무작위로 행동할 확률 (초반에는 경험을 많이 쌓게 하고, 점차 학습하면서 똑똑해지니까 학습한대로 진행하게 함)\n",
        "EPS_DECAY = 200  # 학습 진행시 에이전트가 무작위로 행동할 확률을 감소시키는 값\n",
        "GAMMA = 0.8      # 할인계수 (=에이전트가 현재 보상을 미래 보상보다 얼마나 더 가치있게 여기는지에 대한 값)\n",
        "LR = 0.001       # 학습률\n",
        "BATCH_SIZE = 64  # 배치 크기"
      ],
      "metadata": {
        "id": "95aAKw4lct8p"
      },
      "execution_count": 6,
      "outputs": []
    },
    {
      "cell_type": "code",
      "source": [
        "# DQN model 설계\n",
        "class DQNAgent:\n",
        "    def __init__(self):\n",
        "        self.model = nn.Sequential(\n",
        "            nn.Linear(4, 256),  # input (4) : 카트위치, 카트속도, 막대기각도, 막대기속도\n",
        "            nn.ReLU(),\n",
        "            nn.Linear(256, 2)   # output (2) : 왼쪽으로 갈 때의 가치, 오른쪽으로 갈 때의 가치\n",
        "        )\n",
        "        self.optimizer = optim.Adam(self.model.parameters(), LR)\n",
        "        self.steps_done = 0\n",
        "        self.memory = deque(maxlen=10000)\n",
        "\n",
        "    # 이전에 경험한 것을 모두 배열에 담아 지속적으로 재학습하며 신경망이 잊어버리지 않도록 함\n",
        "    # 기억해둔 경험들은 학습과정에서 무작위로 뽑아 경험간의 상관관계를 줄임\n",
        "    # 경험함수(memorize)는 상태(state), 행동(action), 보상(reward)을 담고 있음. 즉, 에피소드를 저장\n",
        "    def memorize(self, state, action, reward, next_state):\n",
        "        self.memory.append((state,\n",
        "                            action,\n",
        "                            torch.FloatTensor([reward]),\n",
        "                            torch.FloatTensor([next_state])))\n",
        "    \n",
        "    # 행동 선택 함수\n",
        "    def act(self, state):\n",
        "        eps_threshold = EPS_END + (EPS_START - EPS_END) * math.exp(-1. * self.steps_done / EPS_DECAY)\n",
        "        self.steps_done += 1\n",
        "\n",
        "        # 무작위 숫자와 Epsilon을 비교\n",
        "        # 초반에는 Epsilon을 높게 잡아 최대한 경험을 많이 하도록 하고\n",
        "        # 점차 Epsilon을 낮춰가며 신경망이 옳다고 생각하는 방향으로 선택\n",
        "        if random.random() > eps_threshold:\n",
        "            # random값 > Epsilon값 => 학습된 신경망이 옳다고 생각하는 방향으로!\n",
        "            return self.model(state).data.max(1)[1].view(1, 1)\n",
        "        else:\n",
        "            # random값 < Epsilon값 => 무작위로 행동\n",
        "            return torch.LongTensor([[random.randrange(2)]])\n",
        "    \n",
        "    # 메모리에 쌓아둔 경험들을 재학습(replay)하며, 학습하는 함수\n",
        "    def learn(self):\n",
        "\n",
        "        # 메모리에 저장된 에피소드가 batch크기보다 작으면 학습을 하지 않음\n",
        "        if len(self.memory) < BATCH_SIZE:\n",
        "            return\n",
        "\n",
        "        # 경험이 충분히 쌓인 후부터 학습 진행\n",
        "        batch = random.sample(self.memory, BATCH_SIZE)        # 메모리에서 random하게 batch size만큼 가져와서 학습\n",
        "        states, actions, rewards, next_states = zip(*batch)   # 기존의 batch를 요소별 리스트로 분리해줄 수 있게 함\n",
        "\n",
        "        # list to tensor\n",
        "        states = torch.cat(states)\n",
        "        actions = torch.cat(actions)\n",
        "        rewards = torch.cat(rewards)\n",
        "        next_states = torch.cat(next_states)\n",
        "\n",
        "        current_q = self.model(states).gather(1, actions)         # model의 입력으로 states 제공. 현 상태에서 했던 행동의 가치(Q값)를 current_q로 모음\n",
        "        max_next_q = self.model(next_states).detach().max(1)[0]   # 에이전트가 보는 행동의 미래 가치(max_next_q)\n",
        "        expected_q = rewards + (GAMMA * max_next_q)               # rewards(보상) + 미래가치\n",
        "        \n",
        "        # 행동은 expected_q를 따라가게끔, MSE_loss로 오차계산\n",
        "        loss = F.mse_loss(current_q.squeeze(), expected_q)\n",
        "        self.optimizer.zero_grad()\n",
        "\n",
        "        # 역전파, 신경망 학습\n",
        "        loss.backward()\n",
        "        self.optimizer.step()"
      ],
      "metadata": {
        "id": "1GOv467Xcwmr"
      },
      "execution_count": 7,
      "outputs": []
    },
    {
      "cell_type": "code",
      "source": [
        "env = gym.make('CartPole-v0')   # env : 게임환경 (원하는 게임을 make 함수에 넣어줌)\n",
        "agent = DQNAgent()\n",
        "score_history = []              # 점수 저장용"
      ],
      "metadata": {
        "id": "V3YZIO7ccwp3"
      },
      "execution_count": 8,
      "outputs": []
    },
    {
      "cell_type": "code",
      "source": [
        "# 모델 학습\n",
        "for e in range(1, EPISODES+1):\n",
        "    state = env.reset()                       # 매 시작마다 환경 초기화\n",
        "    steps = 0\n",
        "    while True:                               # 게임이 끝날 때까지 무한루프\n",
        "        env.render()\n",
        "        state = torch.FloatTensor([state])    # 현 상태를 Tensor화\n",
        "\n",
        "        # 에이전트의 action 함수의 입력으로 state 제공\n",
        "        # Epsilon Greedy에 따라 행동 선택\n",
        "        action = agent.act(state)\n",
        "\n",
        "        # action : item 함수로 에이전트가 수행한 행동의 번호 추출\n",
        "        next_state, reward, done, _ = env.step(action.item())\n",
        "\n",
        "        # 게임이 끝났을 경우 마이너스 보상주기\n",
        "        if done:\n",
        "            reward = -1\n",
        "\n",
        "        agent.memorize(state, action, reward, next_state)\n",
        "        agent.learn()\n",
        "\n",
        "        state = next_state\n",
        "        steps += 1\n",
        "\n",
        "        if done:\n",
        "            print(\"Episode : {0}\\tScore: {1}\".format(e, steps))\n",
        "            score_history.append(steps)\n",
        "            break"
      ],
      "metadata": {
        "colab": {
          "base_uri": "https://localhost:8080/"
        },
        "id": "2TYyV-5Mcwsl",
        "outputId": "bba13770-11e2-4e31-f0b5-ea014499d3c1"
      },
      "execution_count": 9,
      "outputs": [
        {
          "output_type": "stream",
          "name": "stderr",
          "text": [
            "/usr/local/lib/python3.7/dist-packages/ipykernel_launcher.py:7: UserWarning: Creating a tensor from a list of numpy.ndarrays is extremely slow. Please consider converting the list to a single numpy.ndarray with numpy.array() before converting to a tensor. (Triggered internally at  ../torch/csrc/utils/tensor_new.cpp:201.)\n",
            "  import sys\n"
          ]
        },
        {
          "output_type": "stream",
          "name": "stdout",
          "text": [
            "Episode : 1\tScore: 35\n",
            "Episode : 2\tScore: 27\n",
            "Episode : 3\tScore: 26\n",
            "Episode : 4\tScore: 12\n",
            "Episode : 5\tScore: 14\n",
            "Episode : 6\tScore: 10\n",
            "Episode : 7\tScore: 13\n",
            "Episode : 8\tScore: 15\n",
            "Episode : 9\tScore: 14\n",
            "Episode : 10\tScore: 13\n",
            "Episode : 11\tScore: 10\n",
            "Episode : 12\tScore: 9\n",
            "Episode : 13\tScore: 24\n",
            "Episode : 14\tScore: 11\n",
            "Episode : 15\tScore: 12\n",
            "Episode : 16\tScore: 10\n",
            "Episode : 17\tScore: 11\n",
            "Episode : 18\tScore: 8\n",
            "Episode : 19\tScore: 11\n",
            "Episode : 20\tScore: 10\n",
            "Episode : 21\tScore: 9\n",
            "Episode : 22\tScore: 8\n",
            "Episode : 23\tScore: 17\n",
            "Episode : 24\tScore: 11\n",
            "Episode : 25\tScore: 55\n",
            "Episode : 26\tScore: 15\n",
            "Episode : 27\tScore: 18\n",
            "Episode : 28\tScore: 22\n",
            "Episode : 29\tScore: 16\n",
            "Episode : 30\tScore: 20\n",
            "Episode : 31\tScore: 19\n",
            "Episode : 32\tScore: 28\n",
            "Episode : 33\tScore: 44\n",
            "Episode : 34\tScore: 60\n",
            "Episode : 35\tScore: 68\n",
            "Episode : 36\tScore: 86\n",
            "Episode : 37\tScore: 110\n",
            "Episode : 38\tScore: 120\n",
            "Episode : 39\tScore: 114\n",
            "Episode : 40\tScore: 157\n",
            "Episode : 41\tScore: 83\n",
            "Episode : 42\tScore: 174\n",
            "Episode : 43\tScore: 107\n",
            "Episode : 44\tScore: 124\n",
            "Episode : 45\tScore: 114\n",
            "Episode : 46\tScore: 195\n",
            "Episode : 47\tScore: 175\n",
            "Episode : 48\tScore: 200\n",
            "Episode : 49\tScore: 200\n",
            "Episode : 50\tScore: 154\n"
          ]
        }
      ]
    },
    {
      "cell_type": "code",
      "source": [
        "# 점수 시각화\n",
        "plt.plot(score_history)\n",
        "plt.ylabel('score')\n",
        "plt.show()"
      ],
      "metadata": {
        "colab": {
          "base_uri": "https://localhost:8080/",
          "height": 265
        },
        "id": "eoqImPA3cwvR",
        "outputId": "7e12f7ce-a191-4cb9-ceb7-5a27a9c19e82"
      },
      "execution_count": 10,
      "outputs": [
        {
          "output_type": "display_data",
          "data": {
            "text/plain": [
              "<Figure size 432x288 with 1 Axes>"
            ],
            "image/png": "[encoded data removed]"
          },
          "metadata": {
            "needs_background": "light"
          }
        }
      ]
    }
  ]
}